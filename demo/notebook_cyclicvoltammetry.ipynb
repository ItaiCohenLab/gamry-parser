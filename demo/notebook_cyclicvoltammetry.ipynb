{
  "nbformat": 4,
  "nbformat_minor": 0,
  "metadata": {
    "colab": {
      "name": "Gamry-Parser CyclicVoltammetry Example",
      "version": "0.3.2",
      "provenance": [],
      "private_outputs": true,
      "collapsed_sections": []
    },
    "kernelspec": {
      "name": "python3",
      "display_name": "Python 3"
    }
  },
  "cells": [
    {
      "metadata": {
        "id": "WF08aBjO8Lvh",
        "colab_type": "code",
        "cellView": "form",
        "colab": {}
      },
      "cell_type": "code",
      "source": [
        "#@title Imports, initial setup (Ctrl+F9 to run all)\n",
        "from google.colab import files \n",
        "import pandas as pd\n",
        "import matplotlib.pyplot as plt\n",
        "\n",
        "try:\n",
        "  import gamry_parser as parser\n",
        "except:\n",
        "  !pip install -q --upgrade gamry-parser\n",
        "  import gamry_parser as parser\n",
        "\n",
        "p = parser.CyclicVoltammetry()\n",
        "  \n",
        "print('Done.')"
      ],
      "execution_count": 0,
      "outputs": []
    },
    {
      "metadata": {
        "id": "qPt8TDQgA0h6",
        "colab_type": "code",
        "cellView": "code",
        "colab": {}
      },
      "cell_type": "code",
      "source": [
        "\"\"\"\n",
        "### SCRIPT CONFIGURATION SETTINGS ###\n",
        "\"\"\"\n",
        "\n",
        "\"\"\"\n",
        "DATA SOURCE\n",
        "\"\"\"\n",
        "upload_files = True\n",
        "\n",
        "\"\"\"\n",
        "PLOTTING\n",
        "Plots are generated in the notebook. They are not saved / exported.\n",
        "\"\"\"\n",
        "show_plots = True      # do we want to show analysis plots in this notebook?\n",
        "compare_curves = 3     # compare a specific curve across files\n",
        "\n",
        "\n",
        "print('Done.')"
      ],
      "execution_count": 0,
      "outputs": []
    },
    {
      "metadata": {
        "id": "3cK_P2Clmksm",
        "colab_type": "code",
        "cellView": "form",
        "colab": {}
      },
      "cell_type": "code",
      "source": [
        "#@title DTA File\n",
        "if upload_files:\n",
        "  experiment = files.upload()\n",
        "else:\n",
        "  !wget -c https://raw.githubusercontent.com/bcliang/gamry-parser/master/tests/cv_data.dta\n",
        "  experiment = [\"cv_data.dta\"]\n",
        "\n"
      ],
      "execution_count": 0,
      "outputs": []
    },
    {
      "metadata": {
        "id": "mxwEyYWICCYs",
        "colab_type": "code",
        "cellView": "form",
        "colab": {}
      },
      "cell_type": "code",
      "source": [
        "#@title Load and Plot Curve Data\n",
        "\n",
        "for f in experiment:\n",
        "  p.load(f)\n",
        "  \n",
        "  # generate a plot based on the first curve listed in the file.\n",
        "  curve_count = p.get_curve_count()\n",
        "  data = p.get_curve_data(curve_count) \n",
        "  \n",
        "  # print to screen\n",
        "  print('Data Preview: Last Curve')\n",
        "  print(data.iloc[:5])\n",
        "  \n",
        "  # matplotlib fig\n",
        "  if show_plots:\n",
        "    fig, ax = plt.subplots(figsize=(18,8))\n",
        "    for i in range(curve_count):\n",
        "      data = p.get_curve_data(i)\n",
        "      trace = ax.plot(data['Vf'], data['Im']*1e6, label=\"curve {}\".format(i))\n",
        "      \n",
        "      \n",
        "    ax.set_title(\"{}, {} curves\".format(f, curve_count), fontsize=18)\n",
        "    ax.set_xlabel('Potential (V)')\n",
        "    ax.set_ylabel('Current (A)', fontsize=14)\n",
        "    plt.show()"
      ],
      "execution_count": 0,
      "outputs": []
    },
    {
      "metadata": {
        "id": "AQc4jnhlURDV",
        "colab_type": "code",
        "colab": {},
        "cellView": "form"
      },
      "cell_type": "code",
      "source": [
        "#@title Compare a specific curve across loaded files\n",
        "\n",
        "fig, ax = plt.subplots(figsize=(18,8))\n",
        "    \n",
        "for f in experiment:\n",
        "  p.load(f)\n",
        "  \n",
        "  # generate a plot based on the first curve listed in the file.\n",
        "  curve_count = p.get_curve_count()\n",
        "  if curve_count > compare_curves:\n",
        "    data = p.get_curve_data(compare_curves) \n",
        "    trace = ax.plot(data['Vf'], data['Im']*1e6, label=\"file {}\".format(f))\n",
        "   \n",
        "ax.set_title(\"CyclicVoltammetry Test, Compare Curve #{}\".format(compare_curves), fontsize=18)\n",
        "ax.set_xlabel('Potential (V)')\n",
        "ax.set_ylabel('Current (A)', fontsize=14)\n",
        "ax.legend()\n",
        "plt.show()"
      ],
      "execution_count": 0,
      "outputs": []
    },
    {
      "metadata": {
        "id": "ZPXwezuvmgZ0",
        "colab_type": "code",
        "cellView": "form",
        "colab": {}
      },
      "cell_type": "code",
      "source": [
        "#@title Download All Curves, All Experiments\n",
        "\n",
        "aggreg = pd.DataFrame()\n",
        "\n",
        "for f in experiment:\n",
        "  p.load(f)\n",
        "  \n",
        "  # use get_curves() to retrieve all curves\n",
        "  data = p.get_curves()\n",
        "  \n",
        "  for df in data:\n",
        "    aggreg = aggreg.append(df)\n",
        "    \n",
        "  \n",
        "aggreg.to_csv('results.csv')\n",
        "files.download('results.csv')"
      ],
      "execution_count": 0,
      "outputs": []
    }
  ]
}