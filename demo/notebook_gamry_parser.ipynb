{
  "nbformat": 4,
  "nbformat_minor": 0,
  "metadata": {
    "colab": {
      "name": "Gamry-Parser GamryParser Example",
      "version": "0.3.2",
      "provenance": [],
      "private_outputs": true,
      "collapsed_sections": []
    },
    "kernelspec": {
      "name": "python3",
      "display_name": "Python 3"
    }
  },
  "cells": [
    {
      "metadata": {
        "id": "WF08aBjO8Lvh",
        "colab_type": "code",
        "cellView": "form",
        "colab": {}
      },
      "cell_type": "code",
      "source": [
        "#@title imports, initial setup (Ctrl+F9 to run all)\n",
        "from google.colab import files \n",
        "import pandas as pd\n",
        "import matplotlib.pyplot as plt\n",
        "\n",
        "try:\n",
        "  import gamry_parser as parser\n",
        "except:\n",
        "  !pip install -q --upgrade gamry-parser\n",
        "  import gamry_parser as parser\n",
        "\n",
        "p = parser.GamryParser()\n",
        "  \n",
        "print('Done.')"
      ],
      "execution_count": 0,
      "outputs": []
    },
    {
      "metadata": {
        "id": "qPt8TDQgA0h6",
        "colab_type": "code",
        "cellView": "code",
        "colab": {}
      },
      "cell_type": "code",
      "source": [
        "\"\"\"\n",
        "### SCRIPT CONFIGURATION SETTINGS ###\n",
        "\"\"\"\n",
        "\n",
        "\"\"\"\n",
        "DATA SOURCE\n",
        "\"\"\"\n",
        "upload_files = True\n",
        "\n",
        "\"\"\"\n",
        "PLOTTING\n",
        "Plots are generated in the notebook. They are not saved / exported.\n",
        "\"\"\"\n",
        "show_plots = True      # do we want to show analysis plots in this notebook?\n",
        "current_min = 0        # in figures, what is the y-axis minimum\n",
        "current_max = 25e-9    # in figures, what is the y-axis maximum\n",
        "\n",
        "print('Done.')"
      ],
      "execution_count": 0,
      "outputs": []
    },
    {
      "metadata": {
        "id": "3cK_P2Clmksm",
        "colab_type": "code",
        "cellView": "form",
        "colab": {}
      },
      "cell_type": "code",
      "source": [
        "#@title DTA File\n",
        "if upload_files:\n",
        "  experiment = files.upload()\n",
        "else:\n",
        "  !wget -c https://raw.githubusercontent.com/bcliang/gamry-parser/master/tests/chronoa_data.dta\n",
        "  experiment = [\"chronoa_data.dta\"]\n",
        "\n"
      ],
      "execution_count": 0,
      "outputs": []
    },
    {
      "metadata": {
        "id": "mxwEyYWICCYs",
        "colab_type": "code",
        "cellView": "form",
        "colab": {}
      },
      "cell_type": "code",
      "source": [
        "#@title Load and Plot Final Curve\n",
        "\n",
        "for f in experiment:\n",
        "  p.load(f)\n",
        "  \n",
        "  # generate a plot based on the first curve listed in the file.\n",
        "  curve_count = p.get_curve_count()\n",
        "  data = p.get_curve_data(curve_count) \n",
        "  \n",
        "  # print to screen\n",
        "  print('Display Curve #{} first 5 rows...'.format(curve_count))\n",
        "  print(data.iloc[:5])\n",
        "  \n",
        "  # matplotlib fig\n",
        "  if show_plots:\n",
        "    print('\\nPlotting..')\n",
        "    fig, ax = plt.subplots(figsize=(18,8))\n",
        "    \n",
        "    axis = plt.subplot(211)\n",
        "    plt.plot(data['T'], data['Vf'])\n",
        "    axis.set_title(\"{}, Curve #{}\".format(f, curve_count), fontsize=18)\n",
        "    axis.set_ylabel('Vf')\n",
        "    axis.set_xlabel('Time (s)')\n",
        "    \n",
        "    axis = plt.subplot(212)\n",
        "    plt.plot(data['T'], data['Im'])\n",
        "    axis.set_ylabel('Current', fontsize=14)\n",
        "    \n",
        "    plt.show()\n",
        "    "
      ],
      "execution_count": 0,
      "outputs": []
    },
    {
      "metadata": {
        "id": "ZPXwezuvmgZ0",
        "colab_type": "code",
        "cellView": "form",
        "colab": {}
      },
      "cell_type": "code",
      "source": [
        "#@title Download All Curves, All Experiments\n",
        "\n",
        "aggreg = pd.DataFrame()\n",
        "\n",
        "for f in experiment:\n",
        "  p.load(f)\n",
        "  # use get_curves() to retrieve all curves\n",
        "  data = p.get_curves()\n",
        "  for df in data:\n",
        "    aggreg.append(df)\n",
        "\n",
        "aggreg.to_csv('results.csv')\n",
        "files.download('results.csv')"
      ],
      "execution_count": 0,
      "outputs": []
    }
  ]
}